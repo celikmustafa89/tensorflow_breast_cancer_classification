{
  "nbformat": 4,
  "nbformat_minor": 0,
  "metadata": {
    "colab": {
      "name": "TensorFlow2.0 Breast Cancer Classification",
      "provenance": [],
      "collapsed_sections": [],
      "authorship_tag": "ABX9TyONIrFq8s1hi8UovocSgSZf",
      "include_colab_link": true
    },
    "kernelspec": {
      "name": "python3",
      "display_name": "Python 3"
    }
  },
  "cells": [
    {
      "cell_type": "markdown",
      "metadata": {
        "id": "view-in-github",
        "colab_type": "text"
      },
      "source": [
        "<a href=\"https://colab.research.google.com/github/celikmustafa89/tensorflow_breast_cancer_classification/blob/master/TensorFlow2_0_Breast_Cancer_Classification.ipynb\" target=\"_parent\"><img src=\"https://colab.research.google.com/assets/colab-badge.svg\" alt=\"Open In Colab\"/></a>"
      ]
    },
    {
      "cell_type": "code",
      "metadata": {
        "id": "yZ5-yCNztGG1",
        "colab_type": "code",
        "colab": {}
      },
      "source": [
        "# ÖĞRETMEYİ ÖĞREN, ÖĞRENMEYİ ÖĞRET !!!\n",
        "#\n",
        "# Mustafa Çelik\n",
        "# celikmustafa89@gmail.com\n",
        "#\n",
        "# Medium: https://medium.com/@celikmustafa89\n",
        "# Github: https://github.com/celikmustafa89\n",
        "# stackoverflow: https://stackoverflow.com/users/1523874/celik?tab=profile\n",
        "# twitter: https://twitter.com/muselium"
      ],
      "execution_count": 0,
      "outputs": []
    },
    {
      "cell_type": "code",
      "metadata": {
        "id": "Vr6Kw_rOaG1f",
        "colab_type": "code",
        "colab": {
          "base_uri": "https://localhost:8080/",
          "height": 34
        },
        "outputId": "05b62b6d-a263-42e6-c37b-304ac9dca9b4"
      },
      "source": [
        "# tensorflow kütüphanesi import edilir\n",
        "import tensorflow as tf \n",
        "# import edilen kütüphanenin hangi versiyon olduğuna bakılır\n",
        "print(tf.__version__)"
      ],
      "execution_count": 2,
      "outputs": [
        {
          "output_type": "stream",
          "text": [
            "2.2.0-rc3\n"
          ],
          "name": "stdout"
        }
      ]
    },
    {
      "cell_type": "code",
      "metadata": {
        "id": "8ciMj5cZXVWg",
        "colab_type": "code",
        "colab": {}
      },
      "source": [
        "# göğüs kanser'i verilerinin bulunduğu 'scient-kit learn' kütüphanesi import edilir\n",
        "from sklearn.datasets import load_breast_cancer\n",
        "\n",
        "# import edilen veriseti(dataset) yüklenir\n",
        "dataset = load_breast_cancer()"
      ],
      "execution_count": 0,
      "outputs": []
    },
    {
      "cell_type": "markdown",
      "metadata": {
        "id": "13H2FSQpZGYT",
        "colab_type": "text"
      },
      "source": [
        "# Exploring Dataset (Veri Seti  Detayları)\n",
        "1. bu veriseti'nin tipi nedir?   \n",
        "2. içerisinde kaç tane veri(sample) var?  \n",
        "3. kaç feature var?  \n",
        "4. bu feature'ların isimleri neler?  \n",
        "5. kaç target field yani sınıf var?"
      ]
    },
    {
      "cell_type": "code",
      "metadata": {
        "id": "KKh8JMxpX99x",
        "colab_type": "code",
        "colab": {
          "base_uri": "https://localhost:8080/",
          "height": 34
        },
        "outputId": "56098e00-4ade-4d10-8c71-34f13af07cb1"
      },
      "source": [
        "# 1. veri setinin tipine 'type' fonksiyonu ile bakılır\n",
        "type(dataset)"
      ],
      "execution_count": 4,
      "outputs": [
        {
          "output_type": "execute_result",
          "data": {
            "text/plain": [
              "sklearn.utils.Bunch"
            ]
          },
          "metadata": {
            "tags": []
          },
          "execution_count": 4
        }
      ]
    },
    {
      "cell_type": "code",
      "metadata": {
        "id": "0oa0WXLqYSqV",
        "colab_type": "code",
        "colab": {
          "base_uri": "https://localhost:8080/",
          "height": 34
        },
        "outputId": "464ca419-26f5-4366-f162-8fe6bfc3fbf8"
      },
      "source": [
        "# veritipi dictionary sınıfı extend ettigi için dictionary sınıfının fonksiyonlarını kullanabiliriz.\n",
        "# keys metodu ilgil dictionary'nin içerdiği verileri gösterir.\n",
        "dataset.keys()"
      ],
      "execution_count": 5,
      "outputs": [
        {
          "output_type": "execute_result",
          "data": {
            "text/plain": [
              "dict_keys(['data', 'target', 'target_names', 'DESCR', 'feature_names', 'filename'])"
            ]
          },
          "metadata": {
            "tags": []
          },
          "execution_count": 5
        }
      ]
    },
    {
      "cell_type": "code",
      "metadata": {
        "id": "CAUYFBaGc6Vg",
        "colab_type": "code",
        "colab": {
          "base_uri": "https://localhost:8080/",
          "height": 1000
        },
        "outputId": "4c2c30e6-9c38-4049-fe4a-afab30de6dd5"
      },
      "source": [
        "type(dataset.DESCR)\n",
        "print(dataset.DESCR)"
      ],
      "execution_count": 6,
      "outputs": [
        {
          "output_type": "stream",
          "text": [
            ".. _breast_cancer_dataset:\n",
            "\n",
            "Breast cancer wisconsin (diagnostic) dataset\n",
            "--------------------------------------------\n",
            "\n",
            "**Data Set Characteristics:**\n",
            "\n",
            "    :Number of Instances: 569\n",
            "\n",
            "    :Number of Attributes: 30 numeric, predictive attributes and the class\n",
            "\n",
            "    :Attribute Information:\n",
            "        - radius (mean of distances from center to points on the perimeter)\n",
            "        - texture (standard deviation of gray-scale values)\n",
            "        - perimeter\n",
            "        - area\n",
            "        - smoothness (local variation in radius lengths)\n",
            "        - compactness (perimeter^2 / area - 1.0)\n",
            "        - concavity (severity of concave portions of the contour)\n",
            "        - concave points (number of concave portions of the contour)\n",
            "        - symmetry \n",
            "        - fractal dimension (\"coastline approximation\" - 1)\n",
            "\n",
            "        The mean, standard error, and \"worst\" or largest (mean of the three\n",
            "        largest values) of these features were computed for each image,\n",
            "        resulting in 30 features.  For instance, field 3 is Mean Radius, field\n",
            "        13 is Radius SE, field 23 is Worst Radius.\n",
            "\n",
            "        - class:\n",
            "                - WDBC-Malignant\n",
            "                - WDBC-Benign\n",
            "\n",
            "    :Summary Statistics:\n",
            "\n",
            "    ===================================== ====== ======\n",
            "                                           Min    Max\n",
            "    ===================================== ====== ======\n",
            "    radius (mean):                        6.981  28.11\n",
            "    texture (mean):                       9.71   39.28\n",
            "    perimeter (mean):                     43.79  188.5\n",
            "    area (mean):                          143.5  2501.0\n",
            "    smoothness (mean):                    0.053  0.163\n",
            "    compactness (mean):                   0.019  0.345\n",
            "    concavity (mean):                     0.0    0.427\n",
            "    concave points (mean):                0.0    0.201\n",
            "    symmetry (mean):                      0.106  0.304\n",
            "    fractal dimension (mean):             0.05   0.097\n",
            "    radius (standard error):              0.112  2.873\n",
            "    texture (standard error):             0.36   4.885\n",
            "    perimeter (standard error):           0.757  21.98\n",
            "    area (standard error):                6.802  542.2\n",
            "    smoothness (standard error):          0.002  0.031\n",
            "    compactness (standard error):         0.002  0.135\n",
            "    concavity (standard error):           0.0    0.396\n",
            "    concave points (standard error):      0.0    0.053\n",
            "    symmetry (standard error):            0.008  0.079\n",
            "    fractal dimension (standard error):   0.001  0.03\n",
            "    radius (worst):                       7.93   36.04\n",
            "    texture (worst):                      12.02  49.54\n",
            "    perimeter (worst):                    50.41  251.2\n",
            "    area (worst):                         185.2  4254.0\n",
            "    smoothness (worst):                   0.071  0.223\n",
            "    compactness (worst):                  0.027  1.058\n",
            "    concavity (worst):                    0.0    1.252\n",
            "    concave points (worst):               0.0    0.291\n",
            "    symmetry (worst):                     0.156  0.664\n",
            "    fractal dimension (worst):            0.055  0.208\n",
            "    ===================================== ====== ======\n",
            "\n",
            "    :Missing Attribute Values: None\n",
            "\n",
            "    :Class Distribution: 212 - Malignant, 357 - Benign\n",
            "\n",
            "    :Creator:  Dr. William H. Wolberg, W. Nick Street, Olvi L. Mangasarian\n",
            "\n",
            "    :Donor: Nick Street\n",
            "\n",
            "    :Date: November, 1995\n",
            "\n",
            "This is a copy of UCI ML Breast Cancer Wisconsin (Diagnostic) datasets.\n",
            "https://goo.gl/U2Uwz2\n",
            "\n",
            "Features are computed from a digitized image of a fine needle\n",
            "aspirate (FNA) of a breast mass.  They describe\n",
            "characteristics of the cell nuclei present in the image.\n",
            "\n",
            "Separating plane described above was obtained using\n",
            "Multisurface Method-Tree (MSM-T) [K. P. Bennett, \"Decision Tree\n",
            "Construction Via Linear Programming.\" Proceedings of the 4th\n",
            "Midwest Artificial Intelligence and Cognitive Science Society,\n",
            "pp. 97-101, 1992], a classification method which uses linear\n",
            "programming to construct a decision tree.  Relevant features\n",
            "were selected using an exhaustive search in the space of 1-4\n",
            "features and 1-3 separating planes.\n",
            "\n",
            "The actual linear program used to obtain the separating plane\n",
            "in the 3-dimensional space is that described in:\n",
            "[K. P. Bennett and O. L. Mangasarian: \"Robust Linear\n",
            "Programming Discrimination of Two Linearly Inseparable Sets\",\n",
            "Optimization Methods and Software 1, 1992, 23-34].\n",
            "\n",
            "This database is also available through the UW CS ftp server:\n",
            "\n",
            "ftp ftp.cs.wisc.edu\n",
            "cd math-prog/cpo-dataset/machine-learn/WDBC/\n",
            "\n",
            ".. topic:: References\n",
            "\n",
            "   - W.N. Street, W.H. Wolberg and O.L. Mangasarian. Nuclear feature extraction \n",
            "     for breast tumor diagnosis. IS&T/SPIE 1993 International Symposium on \n",
            "     Electronic Imaging: Science and Technology, volume 1905, pages 861-870,\n",
            "     San Jose, CA, 1993.\n",
            "   - O.L. Mangasarian, W.N. Street and W.H. Wolberg. Breast cancer diagnosis and \n",
            "     prognosis via linear programming. Operations Research, 43(4), pages 570-577, \n",
            "     July-August 1995.\n",
            "   - W.H. Wolberg, W.N. Street, and O.L. Mangasarian. Machine learning techniques\n",
            "     to diagnose breast cancer from fine-needle aspirates. Cancer Letters 77 (1994) \n",
            "     163-171.\n"
          ],
          "name": "stdout"
        }
      ]
    },
    {
      "cell_type": "code",
      "metadata": {
        "id": "lmbc-91vaxYI",
        "colab_type": "code",
        "colab": {
          "base_uri": "https://localhost:8080/",
          "height": 34
        },
        "outputId": "c4d1bba8-c4cd-4fc6-b2da-0dda25b8fbb8"
      },
      "source": [
        "# data kısmı içerisinde bir array bulunduruyor\n",
        "dataset.data\n",
        "# data kısmının daha anlasılır olması açısından array boyutlarına bakabiliriz\n",
        "dataset.data.shape\n",
        "# 569 sample(veri) ve 30 feature sahip bir dataset"
      ],
      "execution_count": 8,
      "outputs": [
        {
          "output_type": "execute_result",
          "data": {
            "text/plain": [
              "(569, 30)"
            ]
          },
          "metadata": {
            "tags": []
          },
          "execution_count": 8
        }
      ]
    },
    {
      "cell_type": "code",
      "metadata": {
        "id": "FW3hS_y9baRK",
        "colab_type": "code",
        "colab": {
          "base_uri": "https://localhost:8080/",
          "height": 459
        },
        "outputId": "3fc6447a-8b36-471b-d338-25f5d6220298"
      },
      "source": [
        "# target alanının içerigine bakılır\n",
        "dataset.target\n",
        "# target alanı array oldugu için boyutuna bakabiliriz.\n",
        "# dataset.target.shape"
      ],
      "execution_count": 9,
      "outputs": [
        {
          "output_type": "execute_result",
          "data": {
            "text/plain": [
              "array([0, 0, 0, 0, 0, 0, 0, 0, 0, 0, 0, 0, 0, 0, 0, 0, 0, 0, 0, 1, 1, 1,\n",
              "       0, 0, 0, 0, 0, 0, 0, 0, 0, 0, 0, 0, 0, 0, 0, 1, 0, 0, 0, 0, 0, 0,\n",
              "       0, 0, 1, 0, 1, 1, 1, 1, 1, 0, 0, 1, 0, 0, 1, 1, 1, 1, 0, 1, 0, 0,\n",
              "       1, 1, 1, 1, 0, 1, 0, 0, 1, 0, 1, 0, 0, 1, 1, 1, 0, 0, 1, 0, 0, 0,\n",
              "       1, 1, 1, 0, 1, 1, 0, 0, 1, 1, 1, 0, 0, 1, 1, 1, 1, 0, 1, 1, 0, 1,\n",
              "       1, 1, 1, 1, 1, 1, 1, 0, 0, 0, 1, 0, 0, 1, 1, 1, 0, 0, 1, 0, 1, 0,\n",
              "       0, 1, 0, 0, 1, 1, 0, 1, 1, 0, 1, 1, 1, 1, 0, 1, 1, 1, 1, 1, 1, 1,\n",
              "       1, 1, 0, 1, 1, 1, 1, 0, 0, 1, 0, 1, 1, 0, 0, 1, 1, 0, 0, 1, 1, 1,\n",
              "       1, 0, 1, 1, 0, 0, 0, 1, 0, 1, 0, 1, 1, 1, 0, 1, 1, 0, 0, 1, 0, 0,\n",
              "       0, 0, 1, 0, 0, 0, 1, 0, 1, 0, 1, 1, 0, 1, 0, 0, 0, 0, 1, 1, 0, 0,\n",
              "       1, 1, 1, 0, 1, 1, 1, 1, 1, 0, 0, 1, 1, 0, 1, 1, 0, 0, 1, 0, 1, 1,\n",
              "       1, 1, 0, 1, 1, 1, 1, 1, 0, 1, 0, 0, 0, 0, 0, 0, 0, 0, 0, 0, 0, 0,\n",
              "       0, 0, 1, 1, 1, 1, 1, 1, 0, 1, 0, 1, 1, 0, 1, 1, 0, 1, 0, 0, 1, 1,\n",
              "       1, 1, 1, 1, 1, 1, 1, 1, 1, 1, 1, 0, 1, 1, 0, 1, 0, 1, 1, 1, 1, 1,\n",
              "       1, 1, 1, 1, 1, 1, 1, 1, 1, 0, 1, 1, 1, 0, 1, 0, 1, 1, 1, 1, 0, 0,\n",
              "       0, 1, 1, 1, 1, 0, 1, 0, 1, 0, 1, 1, 1, 0, 1, 1, 1, 1, 1, 1, 1, 0,\n",
              "       0, 0, 1, 1, 1, 1, 1, 1, 1, 1, 1, 1, 1, 0, 0, 1, 0, 0, 0, 1, 0, 0,\n",
              "       1, 1, 1, 1, 1, 0, 1, 1, 1, 1, 1, 0, 1, 1, 1, 0, 1, 1, 0, 0, 1, 1,\n",
              "       1, 1, 1, 1, 0, 1, 1, 1, 1, 1, 1, 1, 0, 1, 1, 1, 1, 1, 0, 1, 1, 0,\n",
              "       1, 1, 1, 1, 1, 1, 1, 1, 1, 1, 1, 1, 0, 1, 0, 0, 1, 0, 1, 1, 1, 1,\n",
              "       1, 0, 1, 1, 0, 1, 0, 1, 1, 0, 1, 0, 1, 1, 1, 1, 1, 1, 1, 1, 0, 0,\n",
              "       1, 1, 1, 1, 1, 1, 0, 1, 1, 1, 1, 1, 1, 1, 1, 1, 1, 0, 1, 1, 1, 1,\n",
              "       1, 1, 1, 0, 1, 0, 1, 1, 0, 1, 1, 1, 1, 1, 0, 0, 1, 0, 1, 0, 1, 1,\n",
              "       1, 1, 1, 0, 1, 1, 0, 1, 0, 1, 0, 0, 1, 1, 1, 0, 1, 1, 1, 1, 1, 1,\n",
              "       1, 1, 1, 1, 1, 0, 1, 0, 0, 1, 1, 1, 1, 1, 1, 1, 1, 1, 1, 1, 1, 1,\n",
              "       1, 1, 1, 1, 1, 1, 1, 1, 1, 1, 1, 1, 0, 0, 0, 0, 0, 0, 1])"
            ]
          },
          "metadata": {
            "tags": []
          },
          "execution_count": 9
        }
      ]
    },
    {
      "cell_type": "code",
      "metadata": {
        "id": "mZdOrD2JbkAr",
        "colab_type": "code",
        "colab": {
          "base_uri": "https://localhost:8080/",
          "height": 34
        },
        "outputId": "5f5f6897-bd68-44b8-fbb2-cd1ff4245f06"
      },
      "source": [
        "# malignant = kötü huylu\n",
        "# benign    = iyi huylu\n",
        "dataset.target_names\n"
      ],
      "execution_count": 10,
      "outputs": [
        {
          "output_type": "execute_result",
          "data": {
            "text/plain": [
              "array(['malignant', 'benign'], dtype='<U9')"
            ]
          },
          "metadata": {
            "tags": []
          },
          "execution_count": 10
        }
      ]
    },
    {
      "cell_type": "code",
      "metadata": {
        "id": "sX9FkohJc6ej",
        "colab_type": "code",
        "colab": {
          "base_uri": "https://localhost:8080/",
          "height": 187
        },
        "outputId": "168776ad-37fb-4dc6-b26b-da77da0bb38c"
      },
      "source": [
        "# feature isimlerinin bulunduğu veriler\n",
        "dataset.feature_names"
      ],
      "execution_count": 11,
      "outputs": [
        {
          "output_type": "execute_result",
          "data": {
            "text/plain": [
              "array(['mean radius', 'mean texture', 'mean perimeter', 'mean area',\n",
              "       'mean smoothness', 'mean compactness', 'mean concavity',\n",
              "       'mean concave points', 'mean symmetry', 'mean fractal dimension',\n",
              "       'radius error', 'texture error', 'perimeter error', 'area error',\n",
              "       'smoothness error', 'compactness error', 'concavity error',\n",
              "       'concave points error', 'symmetry error',\n",
              "       'fractal dimension error', 'worst radius', 'worst texture',\n",
              "       'worst perimeter', 'worst area', 'worst smoothness',\n",
              "       'worst compactness', 'worst concavity', 'worst concave points',\n",
              "       'worst symmetry', 'worst fractal dimension'], dtype='<U23')"
            ]
          },
          "metadata": {
            "tags": []
          },
          "execution_count": 11
        }
      ]
    },
    {
      "cell_type": "code",
      "metadata": {
        "id": "XJU1WuRoeQ17",
        "colab_type": "code",
        "colab": {
          "base_uri": "https://localhost:8080/",
          "height": 34
        },
        "outputId": "cf9820f5-2ccb-42b9-d80b-1de7b64dbabd"
      },
      "source": [
        "# ilgili verisetinin ismi \n",
        "dataset.filename"
      ],
      "execution_count": 12,
      "outputs": [
        {
          "output_type": "execute_result",
          "data": {
            "text/plain": [
              "'/usr/local/lib/python3.6/dist-packages/sklearn/datasets/data/breast_cancer.csv'"
            ]
          },
          "metadata": {
            "tags": []
          },
          "execution_count": 12
        }
      ]
    },
    {
      "cell_type": "markdown",
      "metadata": {
        "id": "HcPb9OqsecnH",
        "colab_type": "text"
      },
      "source": [
        "1. Buraya kadar tensorflow kutuphanesini ekledik.\n",
        "2. sklearn.datasets kütüphanesi altında göğüs-kanseri(breast-cancer) verisetini yükledik.\n",
        "3. Breast cancer verisetini tanımaya çalıştık\n",
        "\n",
        "# Preprocessing (Ön İşleme)\n"
      ]
    },
    {
      "cell_type": "code",
      "metadata": {
        "id": "IjB7nucaekZp",
        "colab_type": "code",
        "colab": {}
      },
      "source": [
        "# verisetini train ve test setine ayırmak için kullandığımız kütüphane eklenir\n",
        "from sklearn.model_selection import train_test_split"
      ],
      "execution_count": 0,
      "outputs": []
    },
    {
      "cell_type": "code",
      "metadata": {
        "id": "tfzS-OBSfP3I",
        "colab_type": "code",
        "colab": {}
      },
      "source": [
        "# veriseti test ve train olmak üzere 2 parçaya ayrılır\n",
        "X_train, X_test, y_train, y_test = train_test_split(dataset.data,dataset.target,test_size=0.33)"
      ],
      "execution_count": 0,
      "outputs": []
    },
    {
      "cell_type": "code",
      "metadata": {
        "id": "rjK3mU9ZgUoL",
        "colab_type": "code",
        "colab": {
          "base_uri": "https://localhost:8080/",
          "height": 51
        },
        "outputId": "d0277f08-787b-4488-83f6-dc8742225e8f"
      },
      "source": [
        "N, D = X_test.shape\n",
        "print('N = %d\\nD = %d' % (N,D))"
      ],
      "execution_count": 16,
      "outputs": [
        {
          "output_type": "stream",
          "text": [
            "N = 188\n",
            "D = 30\n"
          ],
          "name": "stdout"
        }
      ]
    },
    {
      "cell_type": "code",
      "metadata": {
        "id": "JLpC5Cwjf074",
        "colab_type": "code",
        "colab": {
          "base_uri": "https://localhost:8080/",
          "height": 51
        },
        "outputId": "23a7d0f8-9698-4b64-da37-b284dfcbae5d"
      },
      "source": [
        "N, D = X_train.shape\n",
        "print('N = %d\\nD = %d' % (N,D))"
      ],
      "execution_count": 17,
      "outputs": [
        {
          "output_type": "stream",
          "text": [
            "N = 381\n",
            "D = 30\n"
          ],
          "name": "stdout"
        }
      ]
    },
    {
      "cell_type": "code",
      "metadata": {
        "id": "j4n0HWLikwa4",
        "colab_type": "code",
        "colab": {
          "base_uri": "https://localhost:8080/",
          "height": 34
        },
        "outputId": "e1285e04-1788-4236-d3a4-dc1babd58a62"
      },
      "source": [
        "# before\n",
        "X_train[0][0]"
      ],
      "execution_count": 20,
      "outputs": [
        {
          "output_type": "execute_result",
          "data": {
            "text/plain": [
              "9.876"
            ]
          },
          "metadata": {
            "tags": []
          },
          "execution_count": 20
        }
      ]
    },
    {
      "cell_type": "code",
      "metadata": {
        "id": "k1p6T_yZgfnB",
        "colab_type": "code",
        "colab": {}
      },
      "source": [
        "# standardization için gerekli kütüphane eklenir\n",
        "from sklearn.preprocessing import StandardScaler\n",
        "\n",
        "# standardization fonksiyonu tanımlanır\n",
        "scaler = StandardScaler()\n",
        "X_train = scaler.fit_transform(X_train)\n",
        "X_test = scaler.fit_transform(X_test)"
      ],
      "execution_count": 0,
      "outputs": []
    },
    {
      "cell_type": "code",
      "metadata": {
        "id": "zrw62ifzk_C8",
        "colab_type": "code",
        "colab": {
          "base_uri": "https://localhost:8080/",
          "height": 34
        },
        "outputId": "1f75055d-1d04-413c-d719-6603121f64f5"
      },
      "source": [
        "# after\n",
        "X_train[0][0]"
      ],
      "execution_count": 22,
      "outputs": [
        {
          "output_type": "execute_result",
          "data": {
            "text/plain": [
              "-1.18659970608003"
            ]
          },
          "metadata": {
            "tags": []
          },
          "execution_count": 22
        }
      ]
    },
    {
      "cell_type": "markdown",
      "metadata": {
        "id": "7Bnm74_tlfza",
        "colab_type": "text"
      },
      "source": [
        "# TensorFlow  Train ve Test (TensorFlow ile Train ve Test)"
      ]
    },
    {
      "cell_type": "code",
      "metadata": {
        "id": "CxQBwyBClkeP",
        "colab_type": "code",
        "colab": {
          "base_uri": "https://localhost:8080/",
          "height": 1000
        },
        "outputId": "a1c27466-cd5d-4f79-aca4-a54bd66233a9"
      },
      "source": [
        "# model'in iskeleti olusturulur\n",
        "model = tf.keras.models.Sequential([\n",
        "    tf.keras.layers.Input(shape=(D,)),\n",
        "    tf.keras.layers.Dense(1, activation='sigmoid')\n",
        "])\n",
        "\n",
        "# burada model compile edilirken hangi algoritmalar ve metricler kullanılacak onlar belirlenir.\n",
        "model.compile(\n",
        "    optimizer='adam',\n",
        "    loss='binary_crossentropy',\n",
        "    metrics=['accuracy']\n",
        ")\n",
        "\n",
        "# modeli train edilir\n",
        "r = model.fit(X_train, y_train,\n",
        "              validation_data=(X_test, y_test),\n",
        "              epochs=100\n",
        "              )"
      ],
      "execution_count": 23,
      "outputs": [
        {
          "output_type": "stream",
          "text": [
            "Epoch 1/100\n",
            "12/12 [==============================] - 0s 16ms/step - loss: 1.0794 - accuracy: 0.3386 - val_loss: 1.0282 - val_accuracy: 0.3191\n",
            "Epoch 2/100\n",
            "12/12 [==============================] - 0s 4ms/step - loss: 0.9850 - accuracy: 0.4173 - val_loss: 0.9420 - val_accuracy: 0.3777\n",
            "Epoch 3/100\n",
            "12/12 [==============================] - 0s 4ms/step - loss: 0.8953 - accuracy: 0.4672 - val_loss: 0.8646 - val_accuracy: 0.4468\n",
            "Epoch 4/100\n",
            "12/12 [==============================] - 0s 4ms/step - loss: 0.8184 - accuracy: 0.5171 - val_loss: 0.7962 - val_accuracy: 0.5372\n",
            "Epoch 5/100\n",
            "12/12 [==============================] - 0s 4ms/step - loss: 0.7513 - accuracy: 0.5853 - val_loss: 0.7357 - val_accuracy: 0.5585\n",
            "Epoch 6/100\n",
            "12/12 [==============================] - 0s 4ms/step - loss: 0.6932 - accuracy: 0.6247 - val_loss: 0.6830 - val_accuracy: 0.6223\n",
            "Epoch 7/100\n",
            "12/12 [==============================] - 0s 4ms/step - loss: 0.6392 - accuracy: 0.6798 - val_loss: 0.6361 - val_accuracy: 0.6809\n",
            "Epoch 8/100\n",
            "12/12 [==============================] - 0s 4ms/step - loss: 0.5946 - accuracy: 0.7008 - val_loss: 0.5954 - val_accuracy: 0.7128\n",
            "Epoch 9/100\n",
            "12/12 [==============================] - 0s 4ms/step - loss: 0.5543 - accuracy: 0.7270 - val_loss: 0.5591 - val_accuracy: 0.7447\n",
            "Epoch 10/100\n",
            "12/12 [==============================] - 0s 4ms/step - loss: 0.5179 - accuracy: 0.7533 - val_loss: 0.5270 - val_accuracy: 0.7660\n",
            "Epoch 11/100\n",
            "12/12 [==============================] - 0s 4ms/step - loss: 0.4868 - accuracy: 0.7717 - val_loss: 0.4985 - val_accuracy: 0.7872\n",
            "Epoch 12/100\n",
            "12/12 [==============================] - 0s 4ms/step - loss: 0.4582 - accuracy: 0.8005 - val_loss: 0.4731 - val_accuracy: 0.8085\n",
            "Epoch 13/100\n",
            "12/12 [==============================] - 0s 4ms/step - loss: 0.4335 - accuracy: 0.8189 - val_loss: 0.4504 - val_accuracy: 0.8191\n",
            "Epoch 14/100\n",
            "12/12 [==============================] - 0s 4ms/step - loss: 0.4112 - accuracy: 0.8373 - val_loss: 0.4293 - val_accuracy: 0.8351\n",
            "Epoch 15/100\n",
            "12/12 [==============================] - 0s 4ms/step - loss: 0.3898 - accuracy: 0.8478 - val_loss: 0.4108 - val_accuracy: 0.8457\n",
            "Epoch 16/100\n",
            "12/12 [==============================] - 0s 4ms/step - loss: 0.3737 - accuracy: 0.8609 - val_loss: 0.3943 - val_accuracy: 0.8457\n",
            "Epoch 17/100\n",
            "12/12 [==============================] - 0s 4ms/step - loss: 0.3552 - accuracy: 0.8661 - val_loss: 0.3786 - val_accuracy: 0.8670\n",
            "Epoch 18/100\n",
            "12/12 [==============================] - 0s 4ms/step - loss: 0.3399 - accuracy: 0.8845 - val_loss: 0.3648 - val_accuracy: 0.8670\n",
            "Epoch 19/100\n",
            "12/12 [==============================] - 0s 4ms/step - loss: 0.3275 - accuracy: 0.8898 - val_loss: 0.3520 - val_accuracy: 0.8723\n",
            "Epoch 20/100\n",
            "12/12 [==============================] - 0s 4ms/step - loss: 0.3146 - accuracy: 0.8950 - val_loss: 0.3402 - val_accuracy: 0.8830\n",
            "Epoch 21/100\n",
            "12/12 [==============================] - 0s 4ms/step - loss: 0.3021 - accuracy: 0.8950 - val_loss: 0.3295 - val_accuracy: 0.8830\n",
            "Epoch 22/100\n",
            "12/12 [==============================] - 0s 4ms/step - loss: 0.2922 - accuracy: 0.9055 - val_loss: 0.3194 - val_accuracy: 0.8883\n",
            "Epoch 23/100\n",
            "12/12 [==============================] - 0s 4ms/step - loss: 0.2832 - accuracy: 0.9108 - val_loss: 0.3103 - val_accuracy: 0.8883\n",
            "Epoch 24/100\n",
            "12/12 [==============================] - 0s 4ms/step - loss: 0.2730 - accuracy: 0.9134 - val_loss: 0.3016 - val_accuracy: 0.8989\n",
            "Epoch 25/100\n",
            "12/12 [==============================] - 0s 4ms/step - loss: 0.2650 - accuracy: 0.9186 - val_loss: 0.2937 - val_accuracy: 0.8989\n",
            "Epoch 26/100\n",
            "12/12 [==============================] - 0s 4ms/step - loss: 0.2581 - accuracy: 0.9291 - val_loss: 0.2863 - val_accuracy: 0.8989\n",
            "Epoch 27/100\n",
            "12/12 [==============================] - 0s 4ms/step - loss: 0.2502 - accuracy: 0.9291 - val_loss: 0.2793 - val_accuracy: 0.9043\n",
            "Epoch 28/100\n",
            "12/12 [==============================] - 0s 4ms/step - loss: 0.2430 - accuracy: 0.9291 - val_loss: 0.2728 - val_accuracy: 0.9043\n",
            "Epoch 29/100\n",
            "12/12 [==============================] - 0s 4ms/step - loss: 0.2371 - accuracy: 0.9318 - val_loss: 0.2668 - val_accuracy: 0.9096\n",
            "Epoch 30/100\n",
            "12/12 [==============================] - 0s 4ms/step - loss: 0.2315 - accuracy: 0.9318 - val_loss: 0.2612 - val_accuracy: 0.9096\n",
            "Epoch 31/100\n",
            "12/12 [==============================] - 0s 4ms/step - loss: 0.2262 - accuracy: 0.9344 - val_loss: 0.2558 - val_accuracy: 0.9096\n",
            "Epoch 32/100\n",
            "12/12 [==============================] - 0s 4ms/step - loss: 0.2209 - accuracy: 0.9344 - val_loss: 0.2506 - val_accuracy: 0.9096\n",
            "Epoch 33/100\n",
            "12/12 [==============================] - 0s 4ms/step - loss: 0.2165 - accuracy: 0.9370 - val_loss: 0.2457 - val_accuracy: 0.9149\n",
            "Epoch 34/100\n",
            "12/12 [==============================] - 0s 4ms/step - loss: 0.2119 - accuracy: 0.9370 - val_loss: 0.2411 - val_accuracy: 0.9149\n",
            "Epoch 35/100\n",
            "12/12 [==============================] - 0s 5ms/step - loss: 0.2066 - accuracy: 0.9396 - val_loss: 0.2369 - val_accuracy: 0.9149\n",
            "Epoch 36/100\n",
            "12/12 [==============================] - 0s 4ms/step - loss: 0.2029 - accuracy: 0.9423 - val_loss: 0.2328 - val_accuracy: 0.9149\n",
            "Epoch 37/100\n",
            "12/12 [==============================] - 0s 4ms/step - loss: 0.1993 - accuracy: 0.9475 - val_loss: 0.2290 - val_accuracy: 0.9149\n",
            "Epoch 38/100\n",
            "12/12 [==============================] - 0s 4ms/step - loss: 0.1952 - accuracy: 0.9475 - val_loss: 0.2252 - val_accuracy: 0.9202\n",
            "Epoch 39/100\n",
            "12/12 [==============================] - 0s 5ms/step - loss: 0.1923 - accuracy: 0.9501 - val_loss: 0.2217 - val_accuracy: 0.9149\n",
            "Epoch 40/100\n",
            "12/12 [==============================] - 0s 4ms/step - loss: 0.1883 - accuracy: 0.9501 - val_loss: 0.2183 - val_accuracy: 0.9149\n",
            "Epoch 41/100\n",
            "12/12 [==============================] - 0s 4ms/step - loss: 0.1854 - accuracy: 0.9501 - val_loss: 0.2151 - val_accuracy: 0.9149\n",
            "Epoch 42/100\n",
            "12/12 [==============================] - 0s 4ms/step - loss: 0.1824 - accuracy: 0.9501 - val_loss: 0.2120 - val_accuracy: 0.9149\n",
            "Epoch 43/100\n",
            "12/12 [==============================] - 0s 4ms/step - loss: 0.1793 - accuracy: 0.9501 - val_loss: 0.2091 - val_accuracy: 0.9149\n",
            "Epoch 44/100\n",
            "12/12 [==============================] - 0s 5ms/step - loss: 0.1765 - accuracy: 0.9501 - val_loss: 0.2062 - val_accuracy: 0.9202\n",
            "Epoch 45/100\n",
            "12/12 [==============================] - 0s 4ms/step - loss: 0.1743 - accuracy: 0.9501 - val_loss: 0.2035 - val_accuracy: 0.9202\n",
            "Epoch 46/100\n",
            "12/12 [==============================] - 0s 4ms/step - loss: 0.1713 - accuracy: 0.9501 - val_loss: 0.2009 - val_accuracy: 0.9255\n",
            "Epoch 47/100\n",
            "12/12 [==============================] - 0s 4ms/step - loss: 0.1688 - accuracy: 0.9528 - val_loss: 0.1984 - val_accuracy: 0.9255\n",
            "Epoch 48/100\n",
            "12/12 [==============================] - 0s 4ms/step - loss: 0.1669 - accuracy: 0.9501 - val_loss: 0.1960 - val_accuracy: 0.9309\n",
            "Epoch 49/100\n",
            "12/12 [==============================] - 0s 4ms/step - loss: 0.1642 - accuracy: 0.9501 - val_loss: 0.1937 - val_accuracy: 0.9309\n",
            "Epoch 50/100\n",
            "12/12 [==============================] - 0s 4ms/step - loss: 0.1626 - accuracy: 0.9501 - val_loss: 0.1915 - val_accuracy: 0.9309\n",
            "Epoch 51/100\n",
            "12/12 [==============================] - 0s 4ms/step - loss: 0.1602 - accuracy: 0.9501 - val_loss: 0.1893 - val_accuracy: 0.9309\n",
            "Epoch 52/100\n",
            "12/12 [==============================] - 0s 4ms/step - loss: 0.1581 - accuracy: 0.9501 - val_loss: 0.1872 - val_accuracy: 0.9309\n",
            "Epoch 53/100\n",
            "12/12 [==============================] - 0s 4ms/step - loss: 0.1558 - accuracy: 0.9528 - val_loss: 0.1851 - val_accuracy: 0.9309\n",
            "Epoch 54/100\n",
            "12/12 [==============================] - 0s 5ms/step - loss: 0.1544 - accuracy: 0.9501 - val_loss: 0.1832 - val_accuracy: 0.9309\n",
            "Epoch 55/100\n",
            "12/12 [==============================] - 0s 4ms/step - loss: 0.1533 - accuracy: 0.9501 - val_loss: 0.1814 - val_accuracy: 0.9309\n",
            "Epoch 56/100\n",
            "12/12 [==============================] - 0s 4ms/step - loss: 0.1519 - accuracy: 0.9501 - val_loss: 0.1796 - val_accuracy: 0.9309\n",
            "Epoch 57/100\n",
            "12/12 [==============================] - 0s 4ms/step - loss: 0.1497 - accuracy: 0.9501 - val_loss: 0.1778 - val_accuracy: 0.9309\n",
            "Epoch 58/100\n",
            "12/12 [==============================] - 0s 5ms/step - loss: 0.1480 - accuracy: 0.9528 - val_loss: 0.1761 - val_accuracy: 0.9362\n",
            "Epoch 59/100\n",
            "12/12 [==============================] - 0s 4ms/step - loss: 0.1454 - accuracy: 0.9554 - val_loss: 0.1744 - val_accuracy: 0.9362\n",
            "Epoch 60/100\n",
            "12/12 [==============================] - 0s 4ms/step - loss: 0.1450 - accuracy: 0.9554 - val_loss: 0.1727 - val_accuracy: 0.9362\n",
            "Epoch 61/100\n",
            "12/12 [==============================] - 0s 4ms/step - loss: 0.1426 - accuracy: 0.9554 - val_loss: 0.1712 - val_accuracy: 0.9362\n",
            "Epoch 62/100\n",
            "12/12 [==============================] - 0s 4ms/step - loss: 0.1415 - accuracy: 0.9528 - val_loss: 0.1697 - val_accuracy: 0.9362\n",
            "Epoch 63/100\n",
            "12/12 [==============================] - 0s 4ms/step - loss: 0.1400 - accuracy: 0.9554 - val_loss: 0.1682 - val_accuracy: 0.9362\n",
            "Epoch 64/100\n",
            "12/12 [==============================] - 0s 4ms/step - loss: 0.1392 - accuracy: 0.9554 - val_loss: 0.1668 - val_accuracy: 0.9362\n",
            "Epoch 65/100\n",
            "12/12 [==============================] - 0s 4ms/step - loss: 0.1372 - accuracy: 0.9554 - val_loss: 0.1654 - val_accuracy: 0.9362\n",
            "Epoch 66/100\n",
            "12/12 [==============================] - 0s 4ms/step - loss: 0.1364 - accuracy: 0.9554 - val_loss: 0.1640 - val_accuracy: 0.9362\n",
            "Epoch 67/100\n",
            "12/12 [==============================] - 0s 4ms/step - loss: 0.1349 - accuracy: 0.9554 - val_loss: 0.1628 - val_accuracy: 0.9362\n",
            "Epoch 68/100\n",
            "12/12 [==============================] - 0s 4ms/step - loss: 0.1345 - accuracy: 0.9580 - val_loss: 0.1614 - val_accuracy: 0.9362\n",
            "Epoch 69/100\n",
            "12/12 [==============================] - 0s 4ms/step - loss: 0.1323 - accuracy: 0.9580 - val_loss: 0.1602 - val_accuracy: 0.9362\n",
            "Epoch 70/100\n",
            "12/12 [==============================] - 0s 4ms/step - loss: 0.1313 - accuracy: 0.9580 - val_loss: 0.1589 - val_accuracy: 0.9362\n",
            "Epoch 71/100\n",
            "12/12 [==============================] - 0s 4ms/step - loss: 0.1300 - accuracy: 0.9580 - val_loss: 0.1578 - val_accuracy: 0.9362\n",
            "Epoch 72/100\n",
            "12/12 [==============================] - 0s 4ms/step - loss: 0.1294 - accuracy: 0.9633 - val_loss: 0.1566 - val_accuracy: 0.9362\n",
            "Epoch 73/100\n",
            "12/12 [==============================] - 0s 5ms/step - loss: 0.1277 - accuracy: 0.9633 - val_loss: 0.1555 - val_accuracy: 0.9362\n",
            "Epoch 74/100\n",
            "12/12 [==============================] - 0s 4ms/step - loss: 0.1270 - accuracy: 0.9633 - val_loss: 0.1544 - val_accuracy: 0.9362\n",
            "Epoch 75/100\n",
            "12/12 [==============================] - 0s 4ms/step - loss: 0.1258 - accuracy: 0.9633 - val_loss: 0.1533 - val_accuracy: 0.9415\n",
            "Epoch 76/100\n",
            "12/12 [==============================] - 0s 4ms/step - loss: 0.1246 - accuracy: 0.9659 - val_loss: 0.1523 - val_accuracy: 0.9415\n",
            "Epoch 77/100\n",
            "12/12 [==============================] - 0s 4ms/step - loss: 0.1235 - accuracy: 0.9659 - val_loss: 0.1512 - val_accuracy: 0.9415\n",
            "Epoch 78/100\n",
            "12/12 [==============================] - 0s 4ms/step - loss: 0.1239 - accuracy: 0.9659 - val_loss: 0.1502 - val_accuracy: 0.9362\n",
            "Epoch 79/100\n",
            "12/12 [==============================] - 0s 4ms/step - loss: 0.1221 - accuracy: 0.9659 - val_loss: 0.1492 - val_accuracy: 0.9362\n",
            "Epoch 80/100\n",
            "12/12 [==============================] - 0s 4ms/step - loss: 0.1212 - accuracy: 0.9659 - val_loss: 0.1482 - val_accuracy: 0.9362\n",
            "Epoch 81/100\n",
            "12/12 [==============================] - 0s 4ms/step - loss: 0.1204 - accuracy: 0.9659 - val_loss: 0.1473 - val_accuracy: 0.9362\n",
            "Epoch 82/100\n",
            "12/12 [==============================] - 0s 5ms/step - loss: 0.1190 - accuracy: 0.9659 - val_loss: 0.1464 - val_accuracy: 0.9362\n",
            "Epoch 83/100\n",
            "12/12 [==============================] - 0s 4ms/step - loss: 0.1187 - accuracy: 0.9659 - val_loss: 0.1455 - val_accuracy: 0.9362\n",
            "Epoch 84/100\n",
            "12/12 [==============================] - 0s 4ms/step - loss: 0.1174 - accuracy: 0.9659 - val_loss: 0.1446 - val_accuracy: 0.9362\n",
            "Epoch 85/100\n",
            "12/12 [==============================] - 0s 4ms/step - loss: 0.1172 - accuracy: 0.9685 - val_loss: 0.1438 - val_accuracy: 0.9362\n",
            "Epoch 86/100\n",
            "12/12 [==============================] - 0s 4ms/step - loss: 0.1160 - accuracy: 0.9685 - val_loss: 0.1429 - val_accuracy: 0.9362\n",
            "Epoch 87/100\n",
            "12/12 [==============================] - 0s 4ms/step - loss: 0.1153 - accuracy: 0.9685 - val_loss: 0.1421 - val_accuracy: 0.9362\n",
            "Epoch 88/100\n",
            "12/12 [==============================] - 0s 4ms/step - loss: 0.1145 - accuracy: 0.9685 - val_loss: 0.1413 - val_accuracy: 0.9362\n",
            "Epoch 89/100\n",
            "12/12 [==============================] - 0s 4ms/step - loss: 0.1139 - accuracy: 0.9685 - val_loss: 0.1405 - val_accuracy: 0.9362\n",
            "Epoch 90/100\n",
            "12/12 [==============================] - 0s 4ms/step - loss: 0.1135 - accuracy: 0.9685 - val_loss: 0.1397 - val_accuracy: 0.9362\n",
            "Epoch 91/100\n",
            "12/12 [==============================] - 0s 5ms/step - loss: 0.1122 - accuracy: 0.9685 - val_loss: 0.1389 - val_accuracy: 0.9362\n",
            "Epoch 92/100\n",
            "12/12 [==============================] - 0s 4ms/step - loss: 0.1114 - accuracy: 0.9685 - val_loss: 0.1382 - val_accuracy: 0.9362\n",
            "Epoch 93/100\n",
            "12/12 [==============================] - 0s 5ms/step - loss: 0.1105 - accuracy: 0.9711 - val_loss: 0.1375 - val_accuracy: 0.9415\n",
            "Epoch 94/100\n",
            "12/12 [==============================] - 0s 5ms/step - loss: 0.1098 - accuracy: 0.9711 - val_loss: 0.1368 - val_accuracy: 0.9415\n",
            "Epoch 95/100\n",
            "12/12 [==============================] - 0s 4ms/step - loss: 0.1092 - accuracy: 0.9711 - val_loss: 0.1360 - val_accuracy: 0.9415\n",
            "Epoch 96/100\n",
            "12/12 [==============================] - 0s 4ms/step - loss: 0.1091 - accuracy: 0.9711 - val_loss: 0.1354 - val_accuracy: 0.9415\n",
            "Epoch 97/100\n",
            "12/12 [==============================] - 0s 4ms/step - loss: 0.1084 - accuracy: 0.9711 - val_loss: 0.1347 - val_accuracy: 0.9415\n",
            "Epoch 98/100\n",
            "12/12 [==============================] - 0s 4ms/step - loss: 0.1083 - accuracy: 0.9711 - val_loss: 0.1340 - val_accuracy: 0.9415\n",
            "Epoch 99/100\n",
            "12/12 [==============================] - 0s 4ms/step - loss: 0.1076 - accuracy: 0.9738 - val_loss: 0.1334 - val_accuracy: 0.9415\n",
            "Epoch 100/100\n",
            "12/12 [==============================] - 0s 4ms/step - loss: 0.1062 - accuracy: 0.9738 - val_loss: 0.1328 - val_accuracy: 0.9415\n"
          ],
          "name": "stdout"
        }
      ]
    },
    {
      "cell_type": "code",
      "metadata": {
        "id": "25KobKqcmXbp",
        "colab_type": "code",
        "colab": {
          "base_uri": "https://localhost:8080/",
          "height": 85
        },
        "outputId": "5ca8a85e-5def-4873-ee37-c67fd26cdc38"
      },
      "source": [
        "print(\"Train Score: %s\" % model.evaluate(X_train,y_train))\n",
        "print(\"Test Score: %s\" % model.evaluate(X_test,y_test))"
      ],
      "execution_count": 24,
      "outputs": [
        {
          "output_type": "stream",
          "text": [
            "12/12 [==============================] - 0s 1ms/step - loss: 0.1056 - accuracy: 0.9738\n",
            "Train Score: [0.1056114062666893, 0.9737532734870911]\n",
            "6/6 [==============================] - 0s 1ms/step - loss: 0.1328 - accuracy: 0.9415\n",
            "Test Score: [0.13276921212673187, 0.9414893388748169]\n"
          ],
          "name": "stdout"
        }
      ]
    },
    {
      "cell_type": "markdown",
      "metadata": {
        "id": "VnXBZAWUpwOD",
        "colab_type": "text"
      },
      "source": [
        "# Visualization (Sonuçların Görselleştirilmesi)"
      ]
    },
    {
      "cell_type": "code",
      "metadata": {
        "id": "OMalYBFGpupk",
        "colab_type": "code",
        "colab": {
          "base_uri": "https://localhost:8080/",
          "height": 282
        },
        "outputId": "2172a53a-d282-48db-ba72-c1fc91bbac28"
      },
      "source": [
        "# görselleştirme için gereken matplotlib kütüphanesi eklenir\n",
        "import matplotlib.pyplot as plt\n",
        "\n",
        "r.history.keys()\n",
        "\n",
        "plt.plot(r.history['loss'], label='loss')\n",
        "plt.plot(r.history['val_loss'], label='val_loss')\n",
        "plt.legend()"
      ],
      "execution_count": 27,
      "outputs": [
        {
          "output_type": "execute_result",
          "data": {
            "text/plain": [
              "<matplotlib.legend.Legend at 0x7f3e1b8627f0>"
            ]
          },
          "metadata": {
            "tags": []
          },
          "execution_count": 27
        },
        {
          "output_type": "display_data",
          "data": {
            "image/png": "[encoded data removed]",
            "text/plain": [
              "<Figure size 432x288 with 1 Axes>"
            ]
          },
          "metadata": {
            "tags": [],
            "needs_background": "light"
          }
        }
      ]
    },
    {
      "cell_type": "code",
      "metadata": {
        "id": "QhBJquT5rB3D",
        "colab_type": "code",
        "colab": {
          "base_uri": "https://localhost:8080/",
          "height": 284
        },
        "outputId": "28206715-8810-42f7-8909-c6e7ca6a2f9b"
      },
      "source": [
        "plt.plot(r.history['accuracy'], label='accuracy')\n",
        "plt.plot(r.history['val_accuracy'], label='val_accuracy')\n",
        "plt.legend()"
      ],
      "execution_count": 28,
      "outputs": [
        {
          "output_type": "execute_result",
          "data": {
            "text/plain": [
              "<matplotlib.legend.Legend at 0x7f3e19f15780>"
            ]
          },
          "metadata": {
            "tags": []
          },
          "execution_count": 28
        },
        {
          "output_type": "display_data",
          "data": {
            "image/png": "[encoded data removed]",
            "text/plain": [
              "<Figure size 432x288 with 1 Axes>"
            ]
          },
          "metadata": {
            "tags": [],
            "needs_background": "light"
          }
        }
      ]
    },
    {
      "cell_type": "markdown",
      "metadata": {
        "id": "MieZLPOSnKYP",
        "colab_type": "text"
      },
      "source": [
        "# Prediction"
      ]
    },
    {
      "cell_type": "code",
      "metadata": {
        "id": "SonoLqYExctQ",
        "colab_type": "code",
        "colab": {
          "base_uri": "https://localhost:8080/",
          "height": 1000
        },
        "outputId": "b3042cb3-be3e-4c76-ce63-3b190d953efe"
      },
      "source": [
        "# test verisi ile prediction yapılır.\n",
        "# sonuçlar 0-1 arasında değerler seklindedir\n",
        "results = model.predict(X_test)\n",
        "print(results)"
      ],
      "execution_count": 29,
      "outputs": [
        {
          "output_type": "stream",
          "text": [
            "[[9.51817751e-01]\n",
            " [9.57388043e-01]\n",
            " [3.08835506e-03]\n",
            " [9.86418366e-01]\n",
            " [4.78651315e-01]\n",
            " [8.92476559e-01]\n",
            " [7.22930670e-01]\n",
            " [6.86342299e-01]\n",
            " [5.72345734e-01]\n",
            " [9.96928930e-01]\n",
            " [6.53494717e-05]\n",
            " [9.33913112e-01]\n",
            " [8.22767973e-01]\n",
            " [2.16439294e-05]\n",
            " [8.44602704e-01]\n",
            " [9.57373261e-01]\n",
            " [9.95644033e-01]\n",
            " [7.46667385e-04]\n",
            " [4.39257026e-02]\n",
            " [9.63655233e-01]\n",
            " [1.64540559e-01]\n",
            " [9.97514248e-01]\n",
            " [9.81772602e-01]\n",
            " [1.21351361e-01]\n",
            " [8.37654889e-01]\n",
            " [3.00696790e-01]\n",
            " [9.79213357e-01]\n",
            " [4.88540620e-01]\n",
            " [9.43813205e-01]\n",
            " [8.85786414e-01]\n",
            " [9.93409872e-01]\n",
            " [9.86275971e-01]\n",
            " [9.93939161e-01]\n",
            " [9.95325327e-01]\n",
            " [9.23209190e-01]\n",
            " [7.69757926e-02]\n",
            " [1.23214722e-03]\n",
            " [9.49057698e-01]\n",
            " [9.82935131e-01]\n",
            " [9.83136892e-01]\n",
            " [1.16488802e-04]\n",
            " [9.76436019e-01]\n",
            " [9.85359073e-01]\n",
            " [9.71537352e-01]\n",
            " [8.91270638e-01]\n",
            " [9.54485536e-01]\n",
            " [9.86832142e-01]\n",
            " [8.48965943e-01]\n",
            " [8.94422233e-01]\n",
            " [3.10540199e-03]\n",
            " [9.21820521e-01]\n",
            " [1.12175256e-01]\n",
            " [9.74897265e-01]\n",
            " [9.21373188e-01]\n",
            " [9.56594288e-01]\n",
            " [7.19963908e-02]\n",
            " [4.29447830e-01]\n",
            " [9.94766951e-01]\n",
            " [9.82250929e-01]\n",
            " [9.89477873e-01]\n",
            " [9.87283349e-01]\n",
            " [7.68513203e-01]\n",
            " [9.36418746e-06]\n",
            " [9.08528984e-01]\n",
            " [9.49882269e-01]\n",
            " [9.99394655e-01]\n",
            " [8.02936316e-01]\n",
            " [9.41098809e-01]\n",
            " [2.10894257e-01]\n",
            " [9.87823248e-01]\n",
            " [9.41428900e-01]\n",
            " [1.27166510e-04]\n",
            " [8.25345159e-01]\n",
            " [9.97368991e-01]\n",
            " [9.67951536e-01]\n",
            " [9.85998034e-01]\n",
            " [9.90749955e-01]\n",
            " [7.05893040e-01]\n",
            " [7.77614952e-12]\n",
            " [4.56362963e-04]\n",
            " [9.44396257e-01]\n",
            " [9.96563792e-01]\n",
            " [8.07823241e-02]\n",
            " [9.77580786e-01]\n",
            " [6.54772699e-01]\n",
            " [6.81019127e-02]\n",
            " [1.71500444e-03]\n",
            " [9.57054973e-01]\n",
            " [2.38302350e-03]\n",
            " [4.79701161e-03]\n",
            " [8.47242951e-01]\n",
            " [9.67315793e-01]\n",
            " [1.10327899e-02]\n",
            " [9.56953883e-01]\n",
            " [9.68783617e-01]\n",
            " [9.89152610e-01]\n",
            " [9.92088675e-01]\n",
            " [1.54465437e-04]\n",
            " [7.92461812e-01]\n",
            " [5.39794683e-01]\n",
            " [5.03780484e-01]\n",
            " [7.31918216e-03]\n",
            " [4.19675112e-02]\n",
            " [9.86711979e-01]\n",
            " [2.97591090e-03]\n",
            " [1.27443373e-02]\n",
            " [2.28047639e-01]\n",
            " [5.88439465e-01]\n",
            " [9.91825581e-01]\n",
            " [1.56995058e-02]\n",
            " [4.72700596e-03]\n",
            " [2.11873084e-01]\n",
            " [9.43699539e-01]\n",
            " [9.87817168e-01]\n",
            " [9.88717437e-01]\n",
            " [1.10083491e-01]\n",
            " [6.22493327e-01]\n",
            " [9.47324276e-01]\n",
            " [8.80712986e-01]\n",
            " [9.99299884e-01]\n",
            " [2.40698338e-01]\n",
            " [9.28608358e-01]\n",
            " [1.05417669e-02]\n",
            " [6.43272400e-02]\n",
            " [9.70048547e-01]\n",
            " [9.48791146e-01]\n",
            " [9.77661014e-01]\n",
            " [9.99179482e-01]\n",
            " [1.27782971e-01]\n",
            " [9.52668428e-01]\n",
            " [9.44638848e-01]\n",
            " [9.71278548e-01]\n",
            " [9.49055254e-01]\n",
            " [2.00109482e-02]\n",
            " [5.88296890e-01]\n",
            " [9.98479605e-01]\n",
            " [1.44663453e-02]\n",
            " [9.80893612e-01]\n",
            " [8.45842957e-01]\n",
            " [2.39038467e-02]\n",
            " [8.71195316e-01]\n",
            " [9.96616125e-01]\n",
            " [9.75319505e-01]\n",
            " [9.84518945e-01]\n",
            " [7.79858232e-03]\n",
            " [8.27262044e-01]\n",
            " [1.33853951e-06]\n",
            " [1.58471903e-06]\n",
            " [9.91010904e-01]\n",
            " [6.87608123e-03]\n",
            " [4.36110622e-06]\n",
            " [7.52723813e-01]\n",
            " [9.51995134e-01]\n",
            " [9.96267438e-01]\n",
            " [9.96056199e-01]\n",
            " [6.02573156e-04]\n",
            " [4.18288708e-02]\n",
            " [1.25156343e-02]\n",
            " [9.71108615e-01]\n",
            " [9.52689052e-01]\n",
            " [2.33013630e-02]\n",
            " [9.28094268e-01]\n",
            " [6.73166752e-01]\n",
            " [9.94521320e-01]\n",
            " [7.64371812e-01]\n",
            " [4.95105982e-04]\n",
            " [9.96294618e-01]\n",
            " [9.97451186e-01]\n",
            " [4.94822800e-01]\n",
            " [9.90864515e-01]\n",
            " [8.91437769e-01]\n",
            " [9.90563035e-01]\n",
            " [8.88193488e-01]\n",
            " [2.08199024e-04]\n",
            " [8.91211629e-03]\n",
            " [1.70629621e-01]\n",
            " [9.87516165e-01]\n",
            " [1.91257627e-07]\n",
            " [1.27330422e-03]\n",
            " [9.90422130e-01]\n",
            " [2.42876410e-02]\n",
            " [9.65985894e-01]\n",
            " [9.95741963e-01]\n",
            " [4.79844311e-06]\n",
            " [9.83974040e-01]\n",
            " [9.12222564e-01]\n",
            " [1.29578307e-01]\n",
            " [9.87508237e-01]]\n"
          ],
          "name": "stdout"
        }
      ]
    },
    {
      "cell_type": "code",
      "metadata": {
        "id": "hGDZ4zT1ygNA",
        "colab_type": "code",
        "colab": {
          "base_uri": "https://localhost:8080/",
          "height": 153
        },
        "outputId": "31181b8c-d53a-4a7b-e305-076594182d15"
      },
      "source": [
        "# modelimiz 1 ve 0 olmak üzere iki sınıftan olustugu için sonuc 1 veya 0 sekline getirilir\n",
        "import numpy as np\n",
        "results = np.round(results).flatten()\n",
        "print(results)"
      ],
      "execution_count": 30,
      "outputs": [
        {
          "output_type": "stream",
          "text": [
            "[1. 1. 0. 1. 0. 1. 1. 1. 1. 1. 0. 1. 1. 0. 1. 1. 1. 0. 0. 1. 0. 1. 1. 0.\n",
            " 1. 0. 1. 0. 1. 1. 1. 1. 1. 1. 1. 0. 0. 1. 1. 1. 0. 1. 1. 1. 1. 1. 1. 1.\n",
            " 1. 0. 1. 0. 1. 1. 1. 0. 0. 1. 1. 1. 1. 1. 0. 1. 1. 1. 1. 1. 0. 1. 1. 0.\n",
            " 1. 1. 1. 1. 1. 1. 0. 0. 1. 1. 0. 1. 1. 0. 0. 1. 0. 0. 1. 1. 0. 1. 1. 1.\n",
            " 1. 0. 1. 1. 1. 0. 0. 1. 0. 0. 0. 1. 1. 0. 0. 0. 1. 1. 1. 0. 1. 1. 1. 1.\n",
            " 0. 1. 0. 0. 1. 1. 1. 1. 0. 1. 1. 1. 1. 0. 1. 1. 0. 1. 1. 0. 1. 1. 1. 1.\n",
            " 0. 1. 0. 0. 1. 0. 0. 1. 1. 1. 1. 0. 0. 0. 1. 1. 0. 1. 1. 1. 1. 0. 1. 1.\n",
            " 0. 1. 1. 1. 1. 0. 0. 0. 1. 0. 0. 1. 0. 1. 1. 0. 1. 1. 0. 1.]\n"
          ],
          "name": "stdout"
        }
      ]
    },
    {
      "cell_type": "code",
      "metadata": {
        "id": "SrNWRDa-ouXa",
        "colab_type": "code",
        "colab": {
          "base_uri": "https://localhost:8080/",
          "height": 119
        },
        "outputId": "f9661d07-f1da-4fba-c21e-e504546ff202"
      },
      "source": [
        "# result degiskeni içerisinde modelimizin bulduğu sonuçlar bulunur\n",
        "# y_test degiskeni içerisinde de olması gereken sonuçlar bulunur.\n",
        "print(y_test)"
      ],
      "execution_count": 31,
      "outputs": [
        {
          "output_type": "stream",
          "text": [
            "[1 1 0 1 0 1 1 0 1 1 0 1 1 0 1 1 1 0 0 1 0 1 1 0 1 0 1 1 1 1 1 1 1 1 1 0 0\n",
            " 1 1 1 0 1 1 1 1 1 1 1 1 0 1 0 1 1 1 0 0 1 1 1 1 1 0 1 1 1 1 1 0 1 1 0 1 1\n",
            " 1 1 1 0 0 0 1 1 0 1 1 0 0 1 0 0 1 1 0 1 1 1 1 0 1 0 0 0 0 1 0 0 0 0 1 0 0\n",
            " 0 1 1 1 0 1 1 1 1 0 1 0 0 1 1 1 1 0 1 1 1 0 0 0 1 0 1 1 0 1 1 1 1 0 1 0 0\n",
            " 1 0 0 0 1 1 1 0 0 0 1 1 0 1 1 1 0 0 1 1 1 1 1 1 1 0 0 0 1 0 0 1 0 1 1 0 1\n",
            " 1 0 1]\n"
          ],
          "name": "stdout"
        }
      ]
    },
    {
      "cell_type": "code",
      "metadata": {
        "id": "r56JYV7No7MJ",
        "colab_type": "code",
        "colab": {
          "base_uri": "https://localhost:8080/",
          "height": 34
        },
        "outputId": "3878d0d3-09df-4060-e89a-6d378bd3c785"
      },
      "source": [
        "# simdi modelin buldugu ve gerçek sonuçlar arasında bir kıyaslama yapılır. yani accuracy hesabı yapılır.\n",
        "print(\"Modelin başarısı(accuracy): \", np.mean(results == y_test))"
      ],
      "execution_count": 32,
      "outputs": [
        {
          "output_type": "stream",
          "text": [
            "Modelin başarısı(accuracy):  0.9414893617021277\n"
          ],
          "name": "stdout"
        }
      ]
    },
    {
      "cell_type": "code",
      "metadata": {
        "id": "wtirK5U5pOZh",
        "colab_type": "code",
        "colab": {
          "base_uri": "https://localhost:8080/",
          "height": 51
        },
        "outputId": "71f45875-41fe-467e-ada7-10b5d7ca12a1"
      },
      "source": [
        "# yukardaki accuracy hesabı sonucunun aynısını model nesnesi kullanılarakta yapılabilir\n",
        "print(\"Modelin başarısı(accuracy): \",model.evaluate(X_test,y_test))"
      ],
      "execution_count": 33,
      "outputs": [
        {
          "output_type": "stream",
          "text": [
            "6/6 [==============================] - 0s 1ms/step - loss: 0.1328 - accuracy: 0.9415\n",
            "Modelin başarısı(accuracy):  [0.13276921212673187, 0.9414893388748169]\n"
          ],
          "name": "stdout"
        }
      ]
    }
  ]
}
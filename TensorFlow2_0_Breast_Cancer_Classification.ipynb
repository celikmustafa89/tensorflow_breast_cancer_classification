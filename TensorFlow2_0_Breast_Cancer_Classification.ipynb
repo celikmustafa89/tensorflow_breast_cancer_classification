{
  "nbformat": 4,
  "nbformat_minor": 0,
  "metadata": {
    "colab": {
      "name": "TensorFlow2.0 Breast Cancer Classification",
      "provenance": [],
      "collapsed_sections": [
        "13H2FSQpZGYT"
      ],
      "authorship_tag": "ABX9TyNo+nbu+aTAHcAjGDJDJmR7",
      "include_colab_link": true
    },
    "kernelspec": {
      "name": "python3",
      "display_name": "Python 3"
    }
  },
  "cells": [
    {
      "cell_type": "markdown",
      "metadata": {
        "id": "view-in-github",
        "colab_type": "text"
      },
      "source": [
        "<a href=\"https://colab.research.google.com/github/celikmustafa89/tensorflow_breast_cancer_classification/blob/master/TensorFlow2_0_Breast_Cancer_Classification.ipynb\" target=\"_parent\"><img src=\"https://colab.research.google.com/assets/colab-badge.svg\" alt=\"Open In Colab\"/></a>"
      ]
    },
    {
      "cell_type": "code",
      "metadata": {
        "id": "yZ5-yCNztGG1",
        "colab_type": "code",
        "colab": {}
      },
      "source": [
        "# ÖĞRETMEYİ ÖĞREN, ÖĞRENMEYİ ÖĞRET !!!\n",
        "#\n",
        "# Mustafa Çelik\n",
        "# celikmustafa89@gmail.com\n",
        "#\n",
        "# Medium: https://medium.com/@celikmustafa89\n",
        "# Github: https://github.com/celikmustafa89\n",
        "# stackoverflow: https://stackoverflow.com/users/1523874/celik?tab=profile\n",
        "# twitter: https://twitter.com/muselium"
      ],
      "execution_count": 0,
      "outputs": []
    },
    {
      "cell_type": "code",
      "metadata": {
        "id": "Vr6Kw_rOaG1f",
        "colab_type": "code",
        "colab": {}
      },
      "source": [
        "# tensorflow kütüphanesi import edilir\n",
        "import tensorflow as tf \n",
        "# import edilen kütüphanenin hangi versiyon olduğuna bakılır\n",
        "print(tf.__version__)"
      ],
      "execution_count": 0,
      "outputs": []
    },
    {
      "cell_type": "code",
      "metadata": {
        "id": "8ciMj5cZXVWg",
        "colab_type": "code",
        "colab": {}
      },
      "source": [
        "# göğüs kanser'i verilerinin bulunduğu 'scient-kit learn' kütüphanesi import edilir\n",
        "from sklearn.datasets import load_breast_cancer\n",
        "\n",
        "# import edilen veriseti(dataset) yüklenir\n",
        "dataset = load_breast_cancer()"
      ],
      "execution_count": 0,
      "outputs": []
    },
    {
      "cell_type": "markdown",
      "metadata": {
        "id": "13H2FSQpZGYT",
        "colab_type": "text"
      },
      "source": [
        "# Exploring Dataset (Veri Seti  Detayları)\n",
        "1. bu veriseti'nin tipi nedir?   \n",
        "2. içerisinde kaç tane veri(sample) var?  \n",
        "3. kaç feature var?  \n",
        "4. bu feature'ların isimleri neler?  \n",
        "5. kaç target field yani sınıf var?"
      ]
    },
    {
      "cell_type": "code",
      "metadata": {
        "id": "KKh8JMxpX99x",
        "colab_type": "code",
        "colab": {}
      },
      "source": [
        "# 1. veri setinin tipine 'type' fonksiyonu ile bakılır\n",
        "type(dataset)"
      ],
      "execution_count": 0,
      "outputs": []
    },
    {
      "cell_type": "code",
      "metadata": {
        "id": "0oa0WXLqYSqV",
        "colab_type": "code",
        "colab": {}
      },
      "source": [
        "# veritipi dictionary sınıfı extend ettigi için dictionary sınıfının fonksiyonlarını kullanabiliriz.\n",
        "# keys metodu ilgil dictionary'nin içerdiği verileri gösterir.\n",
        "dataset.keys()"
      ],
      "execution_count": 0,
      "outputs": []
    },
    {
      "cell_type": "code",
      "metadata": {
        "id": "CAUYFBaGc6Vg",
        "colab_type": "code",
        "colab": {}
      },
      "source": [
        "type(dataset.DESCR)\n",
        "print(dataset.DESCR)"
      ],
      "execution_count": 0,
      "outputs": []
    },
    {
      "cell_type": "code",
      "metadata": {
        "id": "lmbc-91vaxYI",
        "colab_type": "code",
        "colab": {}
      },
      "source": [
        "# data kısmı içerisinde bir array bulunduruyor\n",
        "dataset.data\n",
        "# data kısmının daha anlasılır olması açısından array boyutlarına bakabiliriz\n",
        "# dataset.data.shape\n",
        "# 569 sample(veri) ve 30 feature sahip bir dataset"
      ],
      "execution_count": 0,
      "outputs": []
    },
    {
      "cell_type": "code",
      "metadata": {
        "id": "FW3hS_y9baRK",
        "colab_type": "code",
        "colab": {}
      },
      "source": [
        "# target alanının içerigine bakılır\n",
        "dataset.target\n",
        "# target alanı array oldugu için boyutuna bakabiliriz.\n",
        "# dataset.target.shape"
      ],
      "execution_count": 0,
      "outputs": []
    },
    {
      "cell_type": "code",
      "metadata": {
        "id": "mZdOrD2JbkAr",
        "colab_type": "code",
        "colab": {}
      },
      "source": [
        "# malignant = kötü huylu\n",
        "# benign    = iyi huylu\n",
        "dataset.target_names\n"
      ],
      "execution_count": 0,
      "outputs": []
    },
    {
      "cell_type": "code",
      "metadata": {
        "id": "sX9FkohJc6ej",
        "colab_type": "code",
        "colab": {}
      },
      "source": [
        "# feature isimlerinin bulunduğu veriler\n",
        "dataset.feature_names"
      ],
      "execution_count": 0,
      "outputs": []
    },
    {
      "cell_type": "code",
      "metadata": {
        "id": "XJU1WuRoeQ17",
        "colab_type": "code",
        "colab": {}
      },
      "source": [
        "# ilgili verisetinin ismi \n",
        "dataset.filename"
      ],
      "execution_count": 0,
      "outputs": []
    },
    {
      "cell_type": "markdown",
      "metadata": {
        "id": "HcPb9OqsecnH",
        "colab_type": "text"
      },
      "source": [
        "1. Buraya kadar tensorflow kutuphanesini ekledik.\n",
        "2. sklearn.datasets kütüphanesi altında göğüs-kanseri(breast-cancer) verisetini yükledik.\n",
        "3. Breast cancer verisetini tanımaya çalıştık\n",
        "\n",
        "# Preprocessing (Ön İşleme)\n"
      ]
    },
    {
      "cell_type": "code",
      "metadata": {
        "id": "IjB7nucaekZp",
        "colab_type": "code",
        "colab": {}
      },
      "source": [
        "# verisetini train ve test setine ayırmak için kullandığımız kütüphane eklenir\n",
        "from sklearn.model_selection import train_test_split"
      ],
      "execution_count": 0,
      "outputs": []
    },
    {
      "cell_type": "code",
      "metadata": {
        "id": "tfzS-OBSfP3I",
        "colab_type": "code",
        "colab": {}
      },
      "source": [
        "# veriseti test ve train olmak üzere 2 parçaya ayrılır\n",
        "X_train, X_test, y_train, y_test = train_test_split(dataset.data,dataset.target,test_size=0.33)"
      ],
      "execution_count": 0,
      "outputs": []
    },
    {
      "cell_type": "code",
      "metadata": {
        "id": "rjK3mU9ZgUoL",
        "colab_type": "code",
        "colab": {}
      },
      "source": [
        "N, D = X_test.shape\n",
        "print('N = %d\\nD = %d' % (N,D))"
      ],
      "execution_count": 0,
      "outputs": []
    },
    {
      "cell_type": "code",
      "metadata": {
        "id": "JLpC5Cwjf074",
        "colab_type": "code",
        "colab": {}
      },
      "source": [
        "N, D = X_train.shape\n",
        "print('N = %d\\nD = %d' % (N,D))"
      ],
      "execution_count": 0,
      "outputs": []
    },
    {
      "cell_type": "code",
      "metadata": {
        "id": "j4n0HWLikwa4",
        "colab_type": "code",
        "colab": {}
      },
      "source": [
        "# before\n",
        "X_train[0][0]"
      ],
      "execution_count": 0,
      "outputs": []
    },
    {
      "cell_type": "code",
      "metadata": {
        "id": "k1p6T_yZgfnB",
        "colab_type": "code",
        "colab": {}
      },
      "source": [
        "# standardization için gerekli kütüphane eklenir\n",
        "from sklearn.preprocessing import StandardScaler\n",
        "\n",
        "# standardization fonksiyonu tanımlanır\n",
        "scaler = StandardScaler()\n",
        "X_train = scaler.fit_transform(X_train)\n",
        "X_test = scaler.fit_transform(X_test)"
      ],
      "execution_count": 0,
      "outputs": []
    },
    {
      "cell_type": "code",
      "metadata": {
        "id": "zrw62ifzk_C8",
        "colab_type": "code",
        "colab": {}
      },
      "source": [
        "# after\n",
        "X_train[0][0]"
      ],
      "execution_count": 0,
      "outputs": []
    },
    {
      "cell_type": "markdown",
      "metadata": {
        "id": "7Bnm74_tlfza",
        "colab_type": "text"
      },
      "source": [
        "# TensorFlow  Train ve Test (TensorFlow ile Train ve Test)"
      ]
    },
    {
      "cell_type": "code",
      "metadata": {
        "id": "CxQBwyBClkeP",
        "colab_type": "code",
        "colab": {}
      },
      "source": [
        "# model'in iskeleti olusturulur\n",
        "model = tf.keras.models.Sequential([\n",
        "    tf.keras.layers.Input(shape=(D,)),\n",
        "    tf.keras.layers.Dense(1, activation='sigmoid')\n",
        "])\n",
        "\n",
        "# burada model compile edilirken hangi algoritmalar ve metricler kullanılacak onlar belirlenir.\n",
        "model.compile(\n",
        "    optimizer='adam',\n",
        "    loss='binary_crossentropy',\n",
        "    metrics=['accuracy']\n",
        ")\n",
        "\n",
        "# modeli train edilir\n",
        "r = model.fit(X_train, y_train,\n",
        "              validation_data=(X_test, y_test),\n",
        "              epochs=100\n",
        "              )"
      ],
      "execution_count": 0,
      "outputs": []
    },
    {
      "cell_type": "code",
      "metadata": {
        "id": "25KobKqcmXbp",
        "colab_type": "code",
        "colab": {}
      },
      "source": [
        "print(\"Train Score: %s\" % model.evaluate(X_train,y_train))\n",
        "print(\"Test Score: %s\" % model.evaluate(X_test,y_test))"
      ],
      "execution_count": 0,
      "outputs": []
    },
    {
      "cell_type": "markdown",
      "metadata": {
        "id": "VnXBZAWUpwOD",
        "colab_type": "text"
      },
      "source": [
        "# Visualization (Sonuçların Görselleştirilmesi)"
      ]
    },
    {
      "cell_type": "code",
      "metadata": {
        "id": "OMalYBFGpupk",
        "colab_type": "code",
        "colab": {}
      },
      "source": [
        "# görselleştirme için gereken matplotlib kütüphanesi eklenir\n",
        "import matplotlib.pyplot as plt\n",
        "\n",
        "r.history.keys()\n",
        "\n",
        "plt.plot(r.history['loss'], label='loss')\n",
        "plt.plot(r.history['val_loss'], label='val_loss')\n",
        "plt.legend()"
      ],
      "execution_count": 0,
      "outputs": []
    },
    {
      "cell_type": "code",
      "metadata": {
        "id": "QhBJquT5rB3D",
        "colab_type": "code",
        "colab": {}
      },
      "source": [
        "plt.plot(r.history['accuracy'], label='accuracy')\n",
        "plt.plot(r.history['val_accuracy'], label='val_accuracy')\n",
        "plt.legend()"
      ],
      "execution_count": 0,
      "outputs": []
    },
    {
      "cell_type": "code",
      "metadata": {
        "id": "SonoLqYExctQ",
        "colab_type": "code",
        "colab": {}
      },
      "source": [
        "print(model.predict(X_test[0:10]))"
      ],
      "execution_count": 0,
      "outputs": []
    },
    {
      "cell_type": "code",
      "metadata": {
        "id": "hGDZ4zT1ygNA",
        "colab_type": "code",
        "colab": {}
      },
      "source": [
        "y_test[0:10]"
      ],
      "execution_count": 0,
      "outputs": []
    }
  ]
}